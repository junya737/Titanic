{
 "cells": [
  {
   "attachments": {},
   "cell_type": "markdown",
   "id": "bb6d7463-5552-4171-9b52-8d6939cdf62f",
   "metadata": {},
   "source": [
    "# Titanic\n"
   ]
  },
  {
   "cell_type": "code",
   "execution_count": 10,
   "id": "b0dda5f2-a08b-4538-9be2-df7632bb396e",
   "metadata": {},
   "outputs": [],
   "source": [
    "import pandas as pd\n",
    "import numpy as np\n",
    "import matplotlib.pyplot as plt\n",
    "import lightgbm as lgb\n",
    "from importlib import reload\n",
    "import datetime\n",
    "from sklearn.model_selection import StratifiedKFold\n",
    "from sklearn.model_selection import cross_validate\n",
    "from sklearn.model_selection import KFold, train_test_split\n",
    "from sklearn.metrics import accuracy_score\n",
    "import optuna\n",
    "import pickle\n",
    "\n",
    "from modules import function\n"
   ]
  },
  {
   "cell_type": "code",
   "execution_count": 11,
   "id": "07359eaa-5356-4928-bce2-f27f7a3b6a27",
   "metadata": {},
   "outputs": [],
   "source": [
    "# Get raw data\n",
    "train_data_raw = pd.read_csv(\"../data/raw/train.csv\")\n",
    "test_data_raw = pd.read_csv(\"../data/raw/test.csv\")\n",
    "\n",
    "# Extract used features\n",
    "use_columns = [\"Pclass\", \"Age\", \"SibSp\", \"Parch\", \"Fare\", \"Sex\", \"Embarked\"]\n",
    "y_train = train_data_raw[\"Survived\"]\n",
    "train_data = train_data_raw[use_columns]\n",
    "test_data = test_data_raw[use_columns]\n",
    "\n",
    "# Make one hot features of Sex and Embarked\n",
    "for column_name in [\"Sex\", \"Embarked\"]:\n",
    "    train_data = function.add_one_hot(train_data, column_name)\n",
    "    test_data = function.add_one_hot(test_data, column_name)\n",
    "    \n",
    "# Replace nan to mean of the column\n",
    "train_data = function.nan_to_mean(train_data)\n",
    "test_data = function.nan_to_mean(test_data)\n",
    "\n",
    "\n",
    "x_train = train_data\n",
    "x_test = test_data\n",
    "x_train = x_train.to_numpy()\n",
    "y_train = y_train.to_numpy()\n",
    "\n",
    "x_train2, x_test2, y_train2, y_test2=train_test_split(x_train, y_train, test_size=0.05, shuffle=True, random_state=42)\n"
   ]
  },
  {
   "cell_type": "code",
   "execution_count": 12,
   "id": "779f1ad4",
   "metadata": {},
   "outputs": [
    {
     "name": "stdout",
     "output_type": "stream",
     "text": [
      "Acc2 : 0.8222222222222222\n"
     ]
    }
   ],
   "source": [
    "# Fit data using LightGBM\n",
    "lgbm_params = {\n",
    "            'boosting_type': 'gbdt',\n",
    "            'objective': 'binary',\n",
    "            'metric': 'accuracy',\n",
    "            'num_leaves': 12,\n",
    "            \"max_depth\": 6,\n",
    "            'learning_rate': 0.054,\n",
    "            'n_estimators': 10000,\n",
    "            'random_state': 42,\n",
    "            \"class_weight\": \"balanced\"\n",
    "        }\n",
    "eval_metric = \"logloss\"\n",
    "stopping_rounds = 50\n",
    "\n",
    "\n",
    "clf = lgb.LGBMClassifier(**lgbm_params)\n",
    "clf = function.lgbm_fit_earlystopping(clf, x_train2, y_train2, x_test2, y_test2, eval_metric=\"logloss\", stopping_rounds=50)\n",
    "\n",
    "# Predict\n",
    "y_pred=clf.predict(x_test)\n",
    "y_pred2 = clf.predict(x_test2)\n",
    "\n",
    "print(\"Acc2 :\", accuracy_score(y_pred2, y_test2))"
   ]
  },
  {
   "cell_type": "code",
   "execution_count": null,
   "id": "cd298a16",
   "metadata": {},
   "outputs": [],
   "source": []
  },
  {
   "cell_type": "code",
   "execution_count": 140,
   "id": "680a16e1",
   "metadata": {},
   "outputs": [],
   "source": [
    "# Save prediction\n",
    "PassengerId = np.array(test_data_raw[\"PassengerId\"]).astype(int)\n",
    "function.save_kaggle_prediction(y_pred, PassengerId, \"Survived\", \"PassengerId\")\n"
   ]
  },
  {
   "cell_type": "code",
   "execution_count": 141,
   "id": "b83b08fb",
   "metadata": {},
   "outputs": [
    {
     "data": {
      "text/plain": [
       "<Axes: >"
      ]
     },
     "execution_count": 141,
     "metadata": {},
     "output_type": "execute_result"
    },
    {
     "data": {
      "image/png": "[encoded data removed]",
      "text/plain": [
       "<Figure size 432x288 with 1 Axes>"
      ]
     },
     "metadata": {
      "needs_background": "light"
     },
     "output_type": "display_data"
    }
   ],
   "source": [
    "fi = clf.feature_importances_\n",
    "fi = pd.DataFrame(fi, \n",
    "                 index=train_data.columns,\n",
    "                 columns=[\"importance\"])\n",
    "\n",
    "fi = fi.sort_values(\"importance\", ascending=True)\n",
    "fi.plot.barh()"
   ]
  },
  {
   "cell_type": "code",
   "execution_count": 152,
   "id": "0973ca08",
   "metadata": {},
   "outputs": [
    {
     "name": "stdout",
     "output_type": "stream",
     "text": [
      "trial: 8\n",
      "0.8333518969718066\n",
      "{'num_leaves': 25, 'max_depth': 5, 'learning_rate': 0.15830054349442654}\n",
      "1 : 0.8274416985729204 {'num_leaves': 17, 'max_depth': 8, 'learning_rate': 0.12452504145361233}\n",
      "2 : 0.820341106856944 {'num_leaves': 17, 'max_depth': 5, 'learning_rate': 0.13271988148266467}\n",
      "3 : 0.8250539505743125 {'num_leaves': 14, 'max_depth': 9, 'learning_rate': 0.19309592449519558}\n",
      "4 : 0.8227079707622694 {'num_leaves': 13, 'max_depth': 8, 'learning_rate': 0.11049003475305184}\n",
      "5 : 0.822701009397842 {'num_leaves': 18, 'max_depth': 10, 'learning_rate': 0.02349685105759852}\n",
      "6 : 0.7884371736860425 {'num_leaves': 4, 'max_depth': 1, 'learning_rate': 0.16819777065410824}\n",
      "7 : 0.8309780717020535 {'num_leaves': 24, 'max_depth': 9, 'learning_rate': 0.19593748502422517}\n",
      "8 : 0.8333518969718066 {'num_leaves': 25, 'max_depth': 5, 'learning_rate': 0.15830054349442654}\n",
      "9 : 0.8097111033762617 {'num_leaves': 5, 'max_depth': 7, 'learning_rate': 0.037237124607718816}\n",
      "10 : 0.8262582666202576 {'num_leaves': 29, 'max_depth': 6, 'learning_rate': 0.08878576859819948}\n"
     ]
    }
   ],
   "source": [
    "params={\"num_leaves\":[2,30],\"learning_rate\":[0.01,0.2],\"max_depth\":[1,10]}\n",
    "\n",
    "n_splits = 3\n",
    "cv = StratifiedKFold(\n",
    "        n_splits=n_splits, shuffle=True, random_state=42)\n",
    "\n",
    "\n",
    "\n",
    "function.lgbm_bayesian_opt(x_train2, y_train2, cv, params=params, n_trials=10, config=\"print\")"
   ]
  },
  {
   "cell_type": "code",
   "execution_count": 173,
   "id": "15e86ee3",
   "metadata": {},
   "outputs": [],
   "source": [
    "\n",
    "n_splits = 5\n",
    "cv_cv = StratifiedKFold(\n",
    "        n_splits=n_splits, shuffle=True, random_state=42)\n",
    "\n",
    "cv_opt = StratifiedKFold(\n",
    "        n_splits=3, shuffle=True, random_state=42)\n",
    "\n",
    "\n",
    "study_list = function.cv_lgbm_bayesian_opt(x_train, y_train, cv_cv, cv_opt, params, n_trials=100)"
   ]
  },
  {
   "cell_type": "code",
   "execution_count": 174,
   "id": "437545a2",
   "metadata": {},
   "outputs": [],
   "source": [
    "\n",
    "with open(\"../data/processed/study_list_\"+function.get_now_time()+\".bin\", 'wb') as p:\n",
    "    pickle.dump(study_list, p)\n",
    "  \n"
   ]
  },
  {
   "cell_type": "code",
   "execution_count": 31,
   "id": "a70430b6",
   "metadata": {},
   "outputs": [
    {
     "name": "stdout",
     "output_type": "stream",
     "text": [
      "[{'num_leaves': 23, 'max_depth': 2, 'learning_rate': 0.046977005798683774}, {'num_leaves': 26, 'max_depth': 2, 'learning_rate': 0.029971710973680364}, {'num_leaves': 9, 'max_depth': 2, 'learning_rate': 0.10966529992688127}, {'num_leaves': 9, 'max_depth': 4, 'learning_rate': 0.1308455934899561}, {'num_leaves': 21, 'max_depth': 10, 'learning_rate': 0.050864369455988226}]\n"
     ]
    }
   ],
   "source": [
    "with open(\"../data/processed/study_list_20230525_154947.bin\", 'rb') as p:\n",
    "    study_list = pickle.load(p)\n",
    "\n",
    "best_pramas_list = []\n",
    "for study in study_list:\n",
    "    best_pramas_list.append(study.best_params)\n",
    "print(best_pramas_list)"
   ]
  },
  {
   "cell_type": "code",
   "execution_count": 32,
   "id": "14c5bfd8",
   "metadata": {},
   "outputs": [],
   "source": []
  },
  {
   "cell_type": "code",
   "execution_count": 33,
   "id": "d7b12e0e",
   "metadata": {},
   "outputs": [],
   "source": [
    "x = x_train2\n",
    "y = y_train2\n",
    "\n",
    "n_splits = 5\n",
    "cv_cv = StratifiedKFold(\n",
    "        n_splits=n_splits, shuffle=True, random_state=42)\n",
    "\n"
   ]
  },
  {
   "cell_type": "code",
   "execution_count": 36,
   "id": "33f6fe34",
   "metadata": {},
   "outputs": [],
   "source": [
    "clf_list = function.cv_lgbm_clf(x_train2, y_train2, cv_cv, best_pramas_list, eval_metric=\"logloss\", stopping_rounds=50)\n",
    "\n",
    "with open(\"../models/clf_list_\"+function.get_now_time()+\".bin\", 'wb') as p:\n",
    "    pickle.dump(study_list, p)\n",
    "  "
   ]
  },
  {
   "cell_type": "code",
   "execution_count": 37,
   "id": "d91c7bdf",
   "metadata": {},
   "outputs": [],
   "source": [
    "with open(\"../models/clf_list_20230526_153836.bin\", 'rb') as p:\n",
    "    clf_list = pickle.load(p)"
   ]
  },
  {
   "cell_type": "code",
   "execution_count": 94,
   "id": "28d67c59",
   "metadata": {},
   "outputs": [
    {
     "data": {
      "image/png": "[encoded data removed]",
      "text/plain": [
       "<Figure size 432x288 with 1 Axes>"
      ]
     },
     "metadata": {
      "needs_background": "light"
     },
     "output_type": "display_data"
    }
   ],
   "source": [
    "lgb.plot_metric(clf)\n",
    "plt.show()"
   ]
  },
  {
   "cell_type": "code",
   "execution_count": null,
   "id": "734d264e",
   "metadata": {},
   "outputs": [],
   "source": [
    "\n",
    "\n",
    "x_label = \"Age\"\n",
    "y_label = \"Fare\"\n",
    "fig, ax = plt.subplots(figsize=(10,6))\n",
    "scatter = ax.scatter(train_data_raw[x_label], train_data_raw[y_label], c=train_data_raw[\"Survived\"], cmap='viridis')\n",
    "\n",
    "# 軸ラベルの設定\n",
    "ax.set_xlabel(x_label)\n",
    "ax.set_ylabel(y_label)\n",
    "\n",
    "# 凡例の表示\n",
    "legend_labels = ['Dead', 'Survived']\n",
    "ax.legend(handles=scatter.legend_elements()[0], labels=legend_labels, title='Labels')\n"
   ]
  }
 ],
 "metadata": {
  "kernelspec": {
   "display_name": "Python 3",
   "language": "python",
   "name": "python3"
  },
  "language_info": {
   "codemirror_mode": {
    "name": "ipython",
    "version": 3
   },
   "file_extension": ".py",
   "mimetype": "text/x-python",
   "name": "python",
   "nbconvert_exporter": "python",
   "pygments_lexer": "ipython3",
   "version": "3.9.11"
  }
 },
 "nbformat": 4,
 "nbformat_minor": 5
}
