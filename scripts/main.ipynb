{
 "cells": [
  {
   "attachments": {},
   "cell_type": "markdown",
   "id": "bb6d7463-5552-4171-9b52-8d6939cdf62f",
   "metadata": {},
   "source": [
    "# Titanic\n"
   ]
  },
  {
   "cell_type": "code",
   "execution_count": 53,
   "id": "b0dda5f2-a08b-4538-9be2-df7632bb396e",
   "metadata": {},
   "outputs": [],
   "source": [
    "import pandas as pd\n",
    "import numpy as np\n",
    "import matplotlib.pyplot as plt\n",
    "import lightgbm as lgb\n",
    "from importlib import reload\n",
    "import datetime\n",
    "from sklearn.model_selection import StratifiedKFold\n",
    "from sklearn.model_selection import cross_validate\n",
    "from sklearn.model_selection import KFold, train_test_split\n",
    "from sklearn.metrics import accuracy_score\n",
    "import optuna\n",
    "import pickle\n",
    "\n",
    "\n",
    "from modules import function\n"
   ]
  },
  {
   "attachments": {},
   "cell_type": "markdown",
   "id": "ecf329b9",
   "metadata": {},
   "source": [
    "# 前処理"
   ]
  },
  {
   "cell_type": "code",
   "execution_count": 54,
   "id": "07359eaa-5356-4928-bce2-f27f7a3b6a27",
   "metadata": {},
   "outputs": [],
   "source": [
    "# Get raw data\n",
    "train_data_raw = pd.read_csv(\"../data/raw/train.csv\")\n",
    "test_data_raw = pd.read_csv(\"../data/raw/test.csv\")\n",
    "\n",
    "train_data_raw\n",
    "\n",
    "# Extract used features\n",
    "use_columns = [\"Pclass\", \"Age\", \"SibSp\", \"Parch\", \"Fare\", \"Sex\", \"Embarked\"]\n",
    "y_train = train_data_raw[\"Survived\"]\n",
    "train_data = train_data_raw[use_columns]\n",
    "test_data = test_data_raw[use_columns]\n",
    "\n",
    "# Make one hot features of Sex and Embarked\n",
    "for column_name in [\"Sex\", \"Embarked\"]:\n",
    "    train_data = function.add_one_hot(train_data, column_name)\n",
    "    test_data = function.add_one_hot(test_data, column_name)\n",
    "    \n",
    "# Replace nan to mean of the column\n",
    "train_data = function.nan_to_mean(train_data)\n",
    "test_data = function.nan_to_mean(test_data)\n",
    "\n",
    "\n",
    "x_train = train_data\n",
    "x_test = test_data\n",
    "x_train = x_train.to_numpy()\n",
    "y_train = y_train.to_numpy()\n",
    "\n",
    "\n"
   ]
  },
  {
   "attachments": {},
   "cell_type": "markdown",
   "id": "36f6c75e",
   "metadata": {},
   "source": [
    "# パラメータチューニング"
   ]
  },
  {
   "cell_type": "code",
   "execution_count": null,
   "id": "fafda0b5",
   "metadata": {},
   "outputs": [],
   "source": [
    "n_splits = 5\n",
    "#　クロスバリデーション用\n",
    "cv_cv = StratifiedKFold(\n",
    "        n_splits=n_splits, shuffle=True, random_state=42)\n",
    "#　最適化用\n",
    "cv_opt = StratifiedKFold(\n",
    "        n_splits=3, shuffle=True, random_state=42)\n",
    "#　探索範囲\n",
    "params={\"num_leaves\":[2,30],\"learning_rate\":[0.01,0.2],\"max_depth\":[1,10]}\n",
    "study_list = function.cv_lgbm_bayesian_opt(x_train, y_train, cv_cv, cv_opt, params, n_trials=100)\n",
    "\n",
    "with open(\"../data/processed/study_list_\"+function.get_now_time()+\".bin\", 'wb') as p:\n",
    "    pickle.dump(study_list, p)\n"
   ]
  },
  {
   "attachments": {},
   "cell_type": "markdown",
   "id": "6ac3e57f",
   "metadata": {},
   "source": [
    "# モデル学習"
   ]
  },
  {
   "cell_type": "code",
   "execution_count": 55,
   "id": "cd298a16",
   "metadata": {},
   "outputs": [],
   "source": [
    "with open(\"../data/processed/study_list_20230525_154947.bin\", 'rb') as p:\n",
    "    study_list = pickle.load(p)\n",
    "\n",
    "best_pramas_list = []\n",
    "for study in study_list:\n",
    "    best_pramas_list.append(study.best_params)\n",
    "    \n",
    "#学習   \n",
    "clf_list = function.cv_lgbm_clf(x_train, y_train, cv_cv, best_pramas_list, eval_metric=\"logloss\", stopping_rounds=50)\n",
    "with open(\"../models/clf_list_\"+function.get_now_time()+\".bin\", 'wb') as p:\n",
    "    pickle.dump(clf_list, p)"
   ]
  },
  {
   "attachments": {},
   "cell_type": "markdown",
   "id": "8d7a8d3b",
   "metadata": {},
   "source": [
    "# 予測"
   ]
  },
  {
   "cell_type": "code",
   "execution_count": 56,
   "id": "c377103f",
   "metadata": {},
   "outputs": [],
   "source": [
    "# 多数決\n",
    "with open(\"../models/clf_list_20230526_155950.bin\", 'rb') as p:\n",
    "    clf_list = pickle.load(p)\n",
    "\n",
    "# 3以上なら1とする\n",
    "sum_pred = np.zeros(len(x_test))\n",
    "for clf in clf_list:\n",
    "    sum_pred+=clf.predict(x_test)\n",
    "y_pred = np.where(sum_pred >= 3, 1, 0)\n",
    "\n",
    "# Save prediction\n",
    "PassengerId = np.array(test_data_raw[\"PassengerId\"]).astype(int)\n",
    "function.save_kaggle_prediction(y_pred, PassengerId, \"Survived\", \"PassengerId\")"
   ]
  },
  {
   "cell_type": "code",
   "execution_count": null,
   "id": "b37776ab",
   "metadata": {},
   "outputs": [],
   "source": []
  },
  {
   "cell_type": "code",
   "execution_count": null,
   "id": "734d264e",
   "metadata": {},
   "outputs": [],
   "source": [
    "\n",
    "\n",
    "x_label = \"Age\"\n",
    "y_label = \"Fare\"\n",
    "fig, ax = plt.subplots(figsize=(10,6))\n",
    "scatter = ax.scatter(train_data_raw[x_label], train_data_raw[y_label], c=train_data_raw[\"Survived\"], cmap='viridis')\n",
    "\n",
    "# 軸ラベルの設定\n",
    "ax.set_xlabel(x_label)\n",
    "ax.set_ylabel(y_label)\n",
    "\n",
    "# 凡例の表示\n",
    "legend_labels = ['Dead', 'Survived']\n",
    "ax.legend(handles=scatter.legend_elements()[0], labels=legend_labels, title='Labels')\n"
   ]
  }
 ],
 "metadata": {
  "kernelspec": {
   "display_name": "Python 3",
   "language": "python",
   "name": "python3"
  },
  "language_info": {
   "codemirror_mode": {
    "name": "ipython",
    "version": 3
   },
   "file_extension": ".py",
   "mimetype": "text/x-python",
   "name": "python",
   "nbconvert_exporter": "python",
   "pygments_lexer": "ipython3",
   "version": "3.9.11"
  }
 },
 "nbformat": 4,
 "nbformat_minor": 5
}
